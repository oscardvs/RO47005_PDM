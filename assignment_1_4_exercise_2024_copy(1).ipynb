{
 "cells": [
  {
   "attachments": {},
   "cell_type": "markdown",
   "metadata": {},
   "source": [
    "## A simple implementation of the A* Algorithm\n",
    "In this short practical assignment you will implement the A* algorithm. Many resources are available online on how to do this, however, wikipedia has a nice pseudocode implementation [here](https://en.wikipedia.org/wiki/A*_search_algorithm#Pseudocode) which we'll follow closely later on in this assignment. \n",
    "\n",
    "Consider the following graph. Since this graph does not display any coordinate system, we'll use the heuristic cost  from any node to the **Goal** displayed in <span style=\"color:red\">**red**</span> above each node.\n",
    "\n",
    "![graph_a_star](https://i.imgur.com/v98T1hR.png)"
   ]
  },
  {
   "cell_type": "markdown",
   "metadata": {},
   "source": [
    "### Setting up the graph\n",
    "\n",
    "In the following cell, please convert the above visual graph into a dictionary. Each key should represent a node with it's values being a list of tuples. Each tuple should correspond to its connection in the graph and cost associated to travel from one node to the other."
   ]
  },
  {
   "cell_type": "code",
   "execution_count": 2,
   "metadata": {},
   "outputs": [],
   "source": [
    "# Define the graph\n",
    "Graph_nodes = {\n",
    "    'S': [('A', 3), ('B', 1), ('D', 4)],\n",
    "    'A': [('C', 2)],\n",
    "    'B': [('D', 5), ('H', 1), ('E', 6)],\n",
    "    'C': [('D', 2), ('F', 1), ('GO', 9)],\n",
    "    'D': [('L', 2)],\n",
    "    'E': [('D', 3), ('J', 4)],\n",
    "    'F': [('D', 1)],\n",
    "    'G': [('K', 3)],\n",
    "    'H': [('G', 4), ('O', 2), ('I', 6)],\n",
    "    'I': [('J', 5)],\n",
    "    'J': [('G', 3), ('GO', 3)],\n",
    "    'K': [('N', 1)],\n",
    "    'M': [('GO', 2), ('K', 1)],\n",
    "    'N': [('M', 2)],\n",
    "    'O': [('L', 2)],\n",
    "}\n",
    "\n",
    "start_node = 'S'\n",
    "stop_node = 'GO'"
   ]
  },
  {
   "cell_type": "markdown",
   "metadata": {},
   "source": [
    "### The code\n",
    "\n",
    "Please take a short moment to understand what is going on here."
   ]
  },
  {
   "cell_type": "code",
   "execution_count": 3,
   "metadata": {},
   "outputs": [],
   "source": [
    "def aStarAlgo(start_node, stop_node, heuristic_func):\n",
    "    open_set = set()\n",
    "    closed_set = set()\n",
    "    g = {}  # Dictionary to store the cost of getting to each node from the start node\n",
    "    parents = {}  # Dictionary to store the parent node of each node in the path\n",
    "\n",
    "    open_set.add(start_node)\n",
    "    g[start_node] = 0\n",
    "    parents[start_node] = None\n",
    "\n",
    "    while open_set:\n",
    "        current_node = get_node_with_lowest_f_score(open_set, g, stop_node)\n",
    "\n",
    "        # goal has been reached\n",
    "        if current_node == stop_node:\n",
    "            return reconstruct_path(parents, current_node, start_node)\n",
    "            \n",
    "        open_set.remove(current_node)\n",
    "        closed_set.add(current_node)\n",
    "        \n",
    "        for neighbor, cost in get_neighbors(current_node):\n",
    "            if neighbor in closed_set:\n",
    "                continue\n",
    "            tentative_g_score = g[current_node] + cost\n",
    "            if neighbor not in open_set or tentative_g_score < g[neighbor]:\n",
    "                parents[neighbor] = current_node\n",
    "                g[neighbor] = tentative_g_score\n",
    "                if neighbor not in open_set:\n",
    "                    open_set.add(neighbor)\n",
    "\n",
    "    # open_set is empty but goal was never reached\n",
    "    return None"
   ]
  },
  {
   "cell_type": "code",
   "execution_count": 4,
   "metadata": {},
   "outputs": [],
   "source": [
    "def reconstruct_path(parents, current_node, start_node):\n",
    "    path = []\n",
    "    while current_node != start_node:\n",
    "        path.insert(0, current_node)\n",
    "        current_node = parents[current_node]\n",
    "    path.insert(0, start_node)\n",
    "    return path\n",
    "\n",
    "def get_neighbors(node):\n",
    "    neighbors = Graph_nodes.get(node, [])\n",
    "    return neighbors\n",
    "\n",
    "def heuristic(node, goal):\n",
    "    # These are the heuristic cost values presented in red in the graph above\n",
    "    heuristic_values = {\n",
    "        ('S', 'GO'): 10,\n",
    "        ('A', 'GO'): 8,  # Custom heuristic values for specific node pairs\n",
    "        ('B', 'GO'): 8,\n",
    "        ('C', 'GO'): 5,\n",
    "        ('D', 'GO'): 5,\n",
    "        ('E', 'GO'): 6,\n",
    "        ('G', 'GO'): 2,\n",
    "        ('H', 'GO'): 4,\n",
    "        ('I', 'GO'): 4,\n",
    "        ('J', 'GO'): 1,\n",
    "        ('K', 'GO'): 2,\n",
    "        ('L', 'GO'): 1,\n",
    "        ('M', 'GO'): 3,\n",
    "        ('N', 'GO'): 4,\n",
    "        ('O', 'GO'): 3,\n",
    "        ('GO', 'GO'): 0, # Heuristic for reaching the goal from the goal itself\n",
    "    }\n",
    "    return heuristic_values.get((node, goal), 0)  # Default heuristic value for unknown pairs"
   ]
  },
  {
   "cell_type": "markdown",
   "metadata": {},
   "source": [
    "### Your contribution\n",
    "\n",
    "Please implement the following method to obtain the node with the lowest f_score. Remember that f_score is defined as\n",
    "\n",
    "$f(n) = g(n) + h(n)$\n",
    "\n",
    "where h(n) estimates the cost to reach goal from node n.\n",
    "\n"
   ]
  },
  {
   "cell_type": "code",
   "execution_count": 5,
   "metadata": {},
   "outputs": [],
   "source": [
    "def get_node_with_lowest_f_score(open_set, g, stop_node):\n",
    "    lowest_f_score = float('inf')\n",
    "    lowest_node = None\n",
    "    for node in open_set:\n",
    "        f_score=g[node] + heuristic(node,stop_node)\n",
    "        if f_score < lowest_f_score:\n",
    "            lowest_node = node\n",
    "            lowest_f_score = f_score\n",
    "    return lowest_node"
   ]
  },
  {
   "cell_type": "markdown",
   "metadata": {},
   "source": [
    "### Testing your implementation\n",
    "\n",
    "Now you should get the optimal path for the graph above. Please add the obtained path in your deliverable along with the cost associated."
   ]
  },
  {
   "cell_type": "code",
   "execution_count": 6,
   "metadata": {},
   "outputs": [
    {
     "name": "stdout",
     "output_type": "stream",
     "text": [
      "Shortest Path: ['S', 'A', 'C', 'GO']\n"
     ]
    }
   ],
   "source": [
    "path = aStarAlgo(start_node, stop_node, heuristic)\n",
    "if path:\n",
    "    print('Shortest Path:', path)\n",
    "else:\n",
    "    print('No path found.')"
   ]
  },
  {
   "cell_type": "code",
   "execution_count": null,
   "metadata": {},
   "outputs": [],
   "source": []
  }
 ],
 "metadata": {
  "kernelspec": {
   "display_name": "Python 3 (ipykernel)",
   "language": "python",
   "name": "python3"
  },
  "language_info": {
   "codemirror_mode": {
    "name": "ipython",
    "version": 3
   },
   "file_extension": ".py",
   "mimetype": "text/x-python",
   "name": "python",
   "nbconvert_exporter": "python",
   "pygments_lexer": "ipython3",
   "version": "3.10.16"
  }
 },
 "nbformat": 4,
 "nbformat_minor": 4
}

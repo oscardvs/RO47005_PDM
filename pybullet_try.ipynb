{
 "cells": [
  {
   "cell_type": "code",
   "execution_count": 1,
   "id": "9cdc8a51-abb6-448e-aafa-a81c5a47afa4",
   "metadata": {},
   "outputs": [
    {
     "name": "stderr",
     "output_type": "stream",
     "text": [
      "pybullet build time: Nov 28 2023 23:45:17\n"
     ]
    },
    {
     "ename": "KeyboardInterrupt",
     "evalue": "",
     "output_type": "error",
     "traceback": [
      "\u001b[0;31m---------------------------------------------------------------------------\u001b[0m",
      "\u001b[0;31mKeyboardInterrupt\u001b[0m                         Traceback (most recent call last)",
      "Cell \u001b[0;32mIn[1], line 27\u001b[0m\n\u001b[1;32m     24\u001b[0m \u001b[38;5;28;01mfor\u001b[39;00m i \u001b[38;5;129;01min\u001b[39;00m \u001b[38;5;28mrange\u001b[39m(\u001b[38;5;241m10000\u001b[39m):\n\u001b[1;32m     25\u001b[0m     \u001b[38;5;66;03m# Step simulation\u001b[39;00m\n\u001b[1;32m     26\u001b[0m     p\u001b[38;5;241m.\u001b[39mstepSimulation()\n\u001b[0;32m---> 27\u001b[0m     \u001b[43mtime\u001b[49m\u001b[38;5;241;43m.\u001b[39;49m\u001b[43msleep\u001b[49m\u001b[43m(\u001b[49m\u001b[38;5;241;43m1.\u001b[39;49m\u001b[43m \u001b[49m\u001b[38;5;241;43m/\u001b[39;49m\u001b[43m \u001b[49m\u001b[38;5;241;43m240.\u001b[39;49m\u001b[43m)\u001b[49m  \u001b[38;5;66;03m# Slow simulation for visualization\u001b[39;00m\n\u001b[1;32m     29\u001b[0m \u001b[38;5;66;03m# Disconnect\u001b[39;00m\n\u001b[1;32m     30\u001b[0m p\u001b[38;5;241m.\u001b[39mdisconnect()\n",
      "\u001b[0;31mKeyboardInterrupt\u001b[0m: "
     ]
    }
   ],
   "source": [
    "import pybullet as p\n",
    "import pybullet_data\n",
    "import time\n",
    "\n",
    "# Connect to PyBullet with GUI\n",
    "physicsClient = p.connect(p.GUI)\n",
    "\n",
    "# Load environment\n",
    "p.setAdditionalSearchPath(pybullet_data.getDataPath())\n",
    "p.setGravity(0, 0, -9.8)\n",
    "p.loadURDF(\"plane.urdf\")  # Ground plane\n",
    "\n",
    "# Set starting position and orientation for the drone\n",
    "startPos = [0, 0, 1]\n",
    "startOrientation = p.getQuaternionFromEuler([0, 0, 0])\n",
    "\n",
    "# Load a sample drone (use a valid URDF file here)\n",
    "droneId = p.loadURDF(\"r2d2.urdf\", startPos, startOrientation)\n",
    "\n",
    "# Adjust the camera to focus on the drone\n",
    "p.resetDebugVisualizerCamera(cameraDistance=3, cameraYaw=50, cameraPitch=-30, cameraTargetPosition=startPos)\n",
    "\n",
    "# Run simulation\n",
    "for i in range(10000):\n",
    "    # Step simulation\n",
    "    p.stepSimulation()\n",
    "    time.sleep(1. / 240.)  # Slow simulation for visualization\n",
    "\n",
    "# Disconnect\n",
    "p.disconnect()\n"
   ]
  },
  {
   "cell_type": "code",
   "execution_count": null,
   "id": "9a1c6b7f-1771-40d8-ad14-783cb573c4d0",
   "metadata": {},
   "outputs": [],
   "source": []
  }
 ],
 "metadata": {
  "kernelspec": {
   "display_name": "Python 3 (ipykernel)",
   "language": "python",
   "name": "python3"
  },
  "language_info": {
   "codemirror_mode": {
    "name": "ipython",
    "version": 3
   },
   "file_extension": ".py",
   "mimetype": "text/x-python",
   "name": "python",
   "nbconvert_exporter": "python",
   "pygments_lexer": "ipython3",
   "version": "3.10.14"
  }
 },
 "nbformat": 4,
 "nbformat_minor": 5
}

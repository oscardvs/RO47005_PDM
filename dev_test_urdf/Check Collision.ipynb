{
 "cells": [
  {
   "cell_type": "code",
   "execution_count": null,
   "id": "52135fa6-34d3-4574-82cd-966635c6bf71",
   "metadata": {
    "scrolled": true
   },
   "outputs": [],
   "source": [
    "import xml.etree.ElementTree as ET\n",
    "import numpy as np\n",
    "\n",
    "def parse_collision_boxes(urdf_file):\n",
    "    # Parse the URDF file\n",
    "    tree = ET.parse(urdf_file)\n",
    "    root = tree.getroot()\n",
    "\n",
    "    boxes = []\n",
    "    \n",
    "    for link in root.findall(\"link\"):\n",
    "        for collision in link.findall(\"collision\"):\n",
    "            geometry = collision.find(\"geometry\")\n",
    "            box = geometry.find(\"box\")\n",
    "            if box is not None:\n",
    "                size = list(map(float, box.attrib[\"size\"].split()))\n",
    "                origin_elem = collision.find(\"origin\")\n",
    "                if origin_elem is not None:\n",
    "                    origin = list(map(float, origin_elem.attrib[\"xyz\"].split()))\n",
    "                    rpy = list(map(float, origin_elem.attrib[\"rpy\"].split()))\n",
    "                else:\n",
    "                    origin = [0.0, 0.0, 0.0]\n",
    "                    rpy = [0.0, 0.0, 0.0]\n",
    "                boxes.append((size, origin, rpy))\n",
    "    return boxes\n",
    "\n",
    "def compute_min_max(size, origin, rpy):\n",
    "    # Unpack size and origin\n",
    "    sx, sy, sz = size\n",
    "    ox, oy, oz = origin\n",
    "    \n",
    "    # Half extents\n",
    "    hx, hy, hz = sx / 2, sy / 2, sz / 2\n",
    "    \n",
    "    # Define corners of the box relative to origin\n",
    "    corners = np.array([\n",
    "        [-hx, -hy, -hz],\n",
    "        [-hx, -hy, hz],\n",
    "        [-hx, hy, -hz],\n",
    "        [-hx, hy, hz],\n",
    "        [hx, -hy, -hz],\n",
    "        [hx, -hy, hz],\n",
    "        [hx, hy, -hz],\n",
    "        [hx, hy, hz],\n",
    "    ])\n",
    "    \n",
    "    # Rotation matrix for z-axis only (rpy[2])\n",
    "    theta = rpy[2]\n",
    "    rotation_matrix = np.array([\n",
    "        [np.cos(theta), -np.sin(theta), 0],\n",
    "        [np.sin(theta),  np.cos(theta), 0],\n",
    "        [0, 0, 1]\n",
    "    ])\n",
    "    \n",
    "    # Rotate and translate corners\n",
    "    transformed_corners = np.dot(corners, rotation_matrix.T) + np.array([ox, oy, oz])\n",
    "    \n",
    "    # Get min and max\n",
    "    min_coords = transformed_corners.min(axis=0)\n",
    "    max_coords = transformed_corners.max(axis=0)\n",
    "    \n",
    "    return min_coords, max_coords\n",
    "\n",
    "# Example usage\n",
    "urdf_file = \"model.urdf\"\n",
    "boxes = parse_collision_boxes(urdf_file)\n",
    "for size, origin, rpy in boxes:\n",
    "    min_coords, max_coords = compute_min_max(size, origin, rpy)\n",
    "    #print(f\"Box: Size={size}, Origin={origin}, RPY={rpy}\")\n",
    "    #print(f\"  Min: {min_coords}\")\n",
    "    #print(f\"  Max: {max_coords}\")\n"
   ]
  },
  {
   "cell_type": "code",
   "execution_count": 15,
   "id": "71f20274-16fd-45c9-9564-b095cb48318a",
   "metadata": {},
   "outputs": [
    {
     "name": "stdout",
     "output_type": "stream",
     "text": [
      "\n",
      "Global Bounds:\n",
      "  Global Min: [-2.275 -2.525  0.   ]\n",
      "  Global Max: [2.275 2.025 0.3  ]\n"
     ]
    }
   ],
   "source": [
    "import xml.etree.ElementTree as ET\n",
    "import numpy as np\n",
    "\n",
    "def parse_collision_boxes(urdf_file):\n",
    "    # Parse the URDF file\n",
    "    tree = ET.parse(urdf_file)\n",
    "    root = tree.getroot()\n",
    "\n",
    "    boxes = []\n",
    "    \n",
    "    for link in root.findall(\"link\"):\n",
    "        for collision in link.findall(\"collision\"):\n",
    "            geometry = collision.find(\"geometry\")\n",
    "            box = geometry.find(\"box\")\n",
    "            if box is not None:\n",
    "                size = list(map(float, box.attrib[\"size\"].split()))\n",
    "                origin_elem = collision.find(\"origin\")\n",
    "                if origin_elem is not None:\n",
    "                    origin = list(map(float, origin_elem.attrib[\"xyz\"].split()))\n",
    "                    rpy = list(map(float, origin_elem.attrib[\"rpy\"].split()))\n",
    "                else:\n",
    "                    origin = [0.0, 0.0, 0.0]\n",
    "                    rpy = [0.0, 0.0, 0.0]\n",
    "                boxes.append((size, origin, rpy))\n",
    "    return boxes\n",
    "\n",
    "def compute_min_max(size, origin, rpy):\n",
    "    # Unpack size and origin\n",
    "    sx, sy, sz = size\n",
    "    ox, oy, oz = origin\n",
    "    \n",
    "    # Half extents\n",
    "    hx, hy, hz = sx / 2, sy / 2, sz / 2\n",
    "    \n",
    "    # Define corners of the box relative to origin\n",
    "    corners = np.array([\n",
    "        [-hx, -hy, -hz],\n",
    "        [-hx, -hy, hz],\n",
    "        [-hx, hy, -hz],\n",
    "        [-hx, hy, hz],\n",
    "        [hx, -hy, -hz],\n",
    "        [hx, -hy, hz],\n",
    "        [hx, hy, -hz],\n",
    "        [hx, hy, hz],\n",
    "    ])\n",
    "    \n",
    "    # Rotation matrix for z-axis only (rpy[2])\n",
    "    theta = rpy[2]\n",
    "    rotation_matrix = np.array([\n",
    "        [np.cos(theta), -np.sin(theta), 0],\n",
    "        [np.sin(theta),  np.cos(theta), 0],\n",
    "        [0, 0, 1]\n",
    "    ])\n",
    "    \n",
    "    # Rotate and translate corners\n",
    "    transformed_corners = np.dot(corners, rotation_matrix.T) + np.array([ox, oy, oz])\n",
    "    \n",
    "    # Get min and max\n",
    "    min_coords = transformed_corners.min(axis=0)\n",
    "    max_coords = transformed_corners.max(axis=0)\n",
    "    \n",
    "    return min_coords, max_coords\n",
    "\n",
    "# Example usage\n",
    "urdf_file = \"model.urdf\"\n",
    "boxes = parse_collision_boxes(urdf_file)\n",
    "\n",
    "global_min = np.array([float('inf'), float('inf'), float('inf')])\n",
    "global_max = np.array([-float('inf'), -float('inf'), -float('inf')])\n",
    "\n",
    "mins = []\n",
    "maxs = []\n",
    "for size, origin, rpy in boxes:\n",
    "    min_coords, max_coords = compute_min_max(size, origin, rpy)\n",
    "    mins.append(min_coords)\n",
    "    maxs.append(max_coords)\n",
    "    #print(f\"Box: Size={size}, Origin={origin}, RPY={rpy}\")\n",
    "    #print(f\"  Min: {min_coords}\")\n",
    "    #print(f\"  Max: {max_coords}\")\n",
    "    \n",
    "    # Update global bounds\n",
    "    global_min = np.minimum(global_min, min_coords)\n",
    "    global_max = np.maximum(global_max, max_coords)\n",
    "\n",
    "print(\"\\nGlobal Bounds:\")\n",
    "print(f\"  Global Min: {global_min.round(3)}\")\n",
    "print(f\"  Global Max: {global_max.round(3)}\")\n"
   ]
  },
  {
   "cell_type": "code",
   "execution_count": 21,
   "id": "36d587e4-719c-4219-a9d4-3b516925411f",
   "metadata": {},
   "outputs": [],
   "source": [
    "buffer=0.1\n",
    "adjusted_min = np.array(mins) - buffer\n",
    "adjusted_max = np.array(maxs) + buffer"
   ]
  },
  {
   "cell_type": "code",
   "execution_count": 38,
   "id": "d8ab9383-f50c-4a49-9552-c8a42739c003",
   "metadata": {},
   "outputs": [
    {
     "data": {
      "text/plain": [
       "array([-2.375, -2.625, -0.1  ])"
      ]
     },
     "execution_count": 38,
     "metadata": {},
     "output_type": "execute_result"
    }
   ],
   "source": [
    "adjusted_min[0]"
   ]
  },
  {
   "cell_type": "code",
   "execution_count": 39,
   "id": "69527503-e029-4f5a-a006-052e889e9d5b",
   "metadata": {},
   "outputs": [
    {
     "data": {
      "text/plain": [
       "array([-2.125, -1.875,  0.4  ])"
      ]
     },
     "execution_count": 39,
     "metadata": {},
     "output_type": "execute_result"
    }
   ],
   "source": [
    "adjusted_max[0]"
   ]
  },
  {
   "cell_type": "code",
   "execution_count": 45,
   "id": "3447a83d-ec83-4982-8e8c-795c5786fdc3",
   "metadata": {},
   "outputs": [],
   "source": [
    "def check_collision(coords):\n",
    "    for i in range(len(boxes)):\n",
    "        if np.all((coords >= adjusted_min[i]) & (coords <= adjusted_max[i])):\n",
    "            return True\n",
    "\n",
    "    return False"
   ]
  },
  {
   "cell_type": "code",
   "execution_count": 40,
   "id": "1db17c2b-fb83-4413-b976-c57eacf62701",
   "metadata": {},
   "outputs": [],
   "source": [
    "a = np.array([-2.275, -2.525, 0])"
   ]
  },
  {
   "cell_type": "code",
   "execution_count": 43,
   "id": "8e71fde3-bf83-47d9-893e-52340eba59a3",
   "metadata": {},
   "outputs": [
    {
     "data": {
      "text/plain": [
       "True"
      ]
     },
     "execution_count": 43,
     "metadata": {},
     "output_type": "execute_result"
    }
   ],
   "source": [
    "np.all((a >= adjusted_min[0]) & (a <= adjusted_max[0]))"
   ]
  },
  {
   "cell_type": "code",
   "execution_count": 44,
   "id": "b9c8f35a-8faf-401c-9648-0f00b9b87580",
   "metadata": {},
   "outputs": [
    {
     "data": {
      "text/plain": [
       "True"
      ]
     },
     "execution_count": 44,
     "metadata": {},
     "output_type": "execute_result"
    }
   ],
   "source": [
    "np.all(a <= adjusted_max[0])"
   ]
  },
  {
   "cell_type": "code",
   "execution_count": 46,
   "id": "c13a442c-3eb9-4def-8851-f0d92f6a732d",
   "metadata": {},
   "outputs": [
    {
     "data": {
      "text/plain": [
       "True"
      ]
     },
     "execution_count": 46,
     "metadata": {},
     "output_type": "execute_result"
    }
   ],
   "source": [
    "check_collision(a)"
   ]
  },
  {
   "cell_type": "code",
   "execution_count": 28,
   "id": "9bcfdcd1-4e4d-4fa6-9732-ea09a2d3ba51",
   "metadata": {},
   "outputs": [],
   "source": [
    "a = np.array([-2.275, -2.525, 0.])"
   ]
  },
  {
   "cell_type": "code",
   "execution_count": 27,
   "id": "b2361115-f9c5-45ac-969f-c3100a086c21",
   "metadata": {},
   "outputs": [
    {
     "data": {
      "text/plain": [
       "array([-2.27501982, -2.52521898,  0.        ])"
      ]
     },
     "execution_count": 27,
     "metadata": {},
     "output_type": "execute_result"
    }
   ],
   "source": [
    "global_min"
   ]
  },
  {
   "cell_type": "code",
   "execution_count": 31,
   "id": "b2c08205-566e-4210-a995-63f58e762929",
   "metadata": {},
   "outputs": [
    {
     "data": {
      "text/plain": [
       "True"
      ]
     },
     "execution_count": 31,
     "metadata": {},
     "output_type": "execute_result"
    }
   ],
   "source": [
    "np.all((a >= global_min) & (a <= global_max))"
   ]
  },
  {
   "cell_type": "code",
   "execution_count": null,
   "id": "289694a0-3adc-44a0-9b17-e29799aa1d9d",
   "metadata": {},
   "outputs": [],
   "source": []
  }
 ],
 "metadata": {
  "kernelspec": {
   "display_name": "Python 3 (ipykernel)",
   "language": "python",
   "name": "python3"
  },
  "language_info": {
   "codemirror_mode": {
    "name": "ipython",
    "version": 3
   },
   "file_extension": ".py",
   "mimetype": "text/x-python",
   "name": "python",
   "nbconvert_exporter": "python",
   "pygments_lexer": "ipython3",
   "version": "3.10.15"
  }
 },
 "nbformat": 4,
 "nbformat_minor": 5
}
